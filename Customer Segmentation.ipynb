{
 "cells": [
  {
   "cell_type": "code",
   "execution_count": 101,
   "id": "693aa2d9",
   "metadata": {},
   "outputs": [],
   "source": [
    "# importing the required packages\n",
    "import numpy as np\n",
    "import pandas as pd\n",
    "import matplotlib.pyplot as plt\n",
    "import seaborn as sns\n",
    "import plotly.express as px  # Using Plotly for interactive plots\n",
    "from sklearn.cluster import KMeans\n",
    "import warnings\n"
   ]
  },
  {
   "cell_type": "code",
   "execution_count": 102,
   "id": "161c6a5f",
   "metadata": {},
   "outputs": [],
   "source": [
    "warnings.filterwarnings(\"ignore\")\n",
    "plt.rc(\"font\", size=14)\n"
   ]
  },
  {
   "cell_type": "code",
   "execution_count": 104,
   "id": "77757402",
   "metadata": {},
   "outputs": [],
   "source": [
    "# read the csv and print the first 5 rows\n",
    "df = pd.read_excel(\"/Users/surajojha/Downloads/newww/data.xlsx\")\n"
   ]
  },
  {
   "cell_type": "code",
   "execution_count": 105,
   "id": "5d96a4e3",
   "metadata": {},
   "outputs": [
    {
     "data": {
      "text/html": [
       "<div>\n",
       "<style scoped>\n",
       "    .dataframe tbody tr th:only-of-type {\n",
       "        vertical-align: middle;\n",
       "    }\n",
       "\n",
       "    .dataframe tbody tr th {\n",
       "        vertical-align: top;\n",
       "    }\n",
       "\n",
       "    .dataframe thead th {\n",
       "        text-align: right;\n",
       "    }\n",
       "</style>\n",
       "<table border=\"1\" class=\"dataframe\">\n",
       "  <thead>\n",
       "    <tr style=\"text-align: right;\">\n",
       "      <th></th>\n",
       "      <th>Merchant Id</th>\n",
       "      <th>Annual Revenue (k$)</th>\n",
       "      <th>Spending Score (1-100)</th>\n",
       "      <th>City</th>\n",
       "      <th>Most Purchased Product</th>\n",
       "      <th>Repayment Score 1-5</th>\n",
       "    </tr>\n",
       "  </thead>\n",
       "  <tbody>\n",
       "    <tr>\n",
       "      <th>0</th>\n",
       "      <td>1</td>\n",
       "      <td>15</td>\n",
       "      <td>39</td>\n",
       "      <td>Mtwara</td>\n",
       "      <td>Mtindi 500ml</td>\n",
       "      <td>1</td>\n",
       "    </tr>\n",
       "    <tr>\n",
       "      <th>1</th>\n",
       "      <td>2</td>\n",
       "      <td>15</td>\n",
       "      <td>81</td>\n",
       "      <td>Zanzibar City</td>\n",
       "      <td>Fresh Milk 250ml</td>\n",
       "      <td>2</td>\n",
       "    </tr>\n",
       "    <tr>\n",
       "      <th>2</th>\n",
       "      <td>3</td>\n",
       "      <td>16</td>\n",
       "      <td>6</td>\n",
       "      <td>Mtwara</td>\n",
       "      <td>Mtindi 500ml</td>\n",
       "      <td>3</td>\n",
       "    </tr>\n",
       "    <tr>\n",
       "      <th>3</th>\n",
       "      <td>4</td>\n",
       "      <td>16</td>\n",
       "      <td>77</td>\n",
       "      <td>Zanzibar City</td>\n",
       "      <td>Fresh Milk 250ml</td>\n",
       "      <td>4</td>\n",
       "    </tr>\n",
       "    <tr>\n",
       "      <th>4</th>\n",
       "      <td>5</td>\n",
       "      <td>17</td>\n",
       "      <td>40</td>\n",
       "      <td>Mtwara</td>\n",
       "      <td>Mtindi 500ml</td>\n",
       "      <td>2</td>\n",
       "    </tr>\n",
       "  </tbody>\n",
       "</table>\n",
       "</div>"
      ],
      "text/plain": [
       "   Merchant Id  Annual Revenue (k$)  Spending Score (1-100)           City  \\\n",
       "0            1                   15                      39         Mtwara   \n",
       "1            2                   15                      81  Zanzibar City   \n",
       "2            3                   16                       6         Mtwara   \n",
       "3            4                   16                      77  Zanzibar City   \n",
       "4            5                   17                      40         Mtwara   \n",
       "\n",
       "  Most Purchased Product  Repayment Score 1-5  \n",
       "0           Mtindi 500ml                    1  \n",
       "1       Fresh Milk 250ml                    2  \n",
       "2           Mtindi 500ml                    3  \n",
       "3       Fresh Milk 250ml                    4  \n",
       "4           Mtindi 500ml                    2  "
      ]
     },
     "execution_count": 105,
     "metadata": {},
     "output_type": "execute_result"
    }
   ],
   "source": [
    "df.head()"
   ]
  },
  {
   "cell_type": "code",
   "execution_count": 106,
   "id": "b8487ef9",
   "metadata": {},
   "outputs": [],
   "source": [
    "# Renaming columns (if necessary)\n",
    "df.rename(columns={'Genre':'Gender',\n",
    "                   'Annual Revenue (k$)':'Annual_Revenue',\n",
    "                   'Spending Score (1-100)':'Spending_Score',\n",
    "                   'Most Purchased Product': 'Most_Purchased_Product'\n",
    "                  },\n",
    "          inplace=True)"
   ]
  },
  {
   "cell_type": "code",
   "execution_count": 107,
   "id": "cdfe1ff4",
   "metadata": {},
   "outputs": [
    {
     "name": "stdout",
     "output_type": "stream",
     "text": [
      "<class 'pandas.core.frame.DataFrame'>\n",
      "RangeIndex: 200 entries, 0 to 199\n",
      "Data columns (total 6 columns):\n",
      " #   Column                  Non-Null Count  Dtype \n",
      "---  ------                  --------------  ----- \n",
      " 0   Merchant Id             200 non-null    int64 \n",
      " 1   Annual_Revenue          200 non-null    int64 \n",
      " 2   Spending_Score          200 non-null    int64 \n",
      " 3   City                    200 non-null    object\n",
      " 4   Most_Purchased_Product  200 non-null    object\n",
      " 5   Repayment Score 1-5     200 non-null    int64 \n",
      "dtypes: int64(4), object(2)\n",
      "memory usage: 9.5+ KB\n"
     ]
    }
   ],
   "source": [
    "# Check basic info about the dataset\n",
    "df.info()"
   ]
  },
  {
   "cell_type": "code",
   "execution_count": 108,
   "id": "d30e3607",
   "metadata": {},
   "outputs": [
    {
     "data": {
      "text/plain": [
       "Merchant Id               0\n",
       "Annual_Revenue            0\n",
       "Spending_Score            0\n",
       "City                      0\n",
       "Most_Purchased_Product    0\n",
       "Repayment Score 1-5       0\n",
       "dtype: int64"
      ]
     },
     "execution_count": 108,
     "metadata": {},
     "output_type": "execute_result"
    }
   ],
   "source": [
    "#Looking for null values\n",
    "df.isna().sum()"
   ]
  },
  {
   "cell_type": "code",
   "execution_count": 109,
   "id": "581404ce",
   "metadata": {},
   "outputs": [
    {
     "data": {
      "text/plain": [
       "Most_Purchased_Product\n",
       "Mtindi 250ml        82\n",
       "Fresh Milk 1ltr     76\n",
       "Mtindi 500ml        21\n",
       "Fresh Milk 250ml    21\n",
       "Name: count, dtype: int64"
      ]
     },
     "execution_count": 109,
     "metadata": {},
     "output_type": "execute_result"
    }
   ],
   "source": [
    "df['Most_Purchased_Product'].value_counts()"
   ]
  },
  {
   "cell_type": "code",
   "execution_count": 110,
   "id": "76cc1507",
   "metadata": {},
   "outputs": [
    {
     "data": {
      "text/plain": [
       "City\n",
       "Dar es Salaam    82\n",
       "Moshi            76\n",
       "Mtwara           21\n",
       "Zanzibar City    21\n",
       "Name: count, dtype: int64"
      ]
     },
     "execution_count": 110,
     "metadata": {},
     "output_type": "execute_result"
    }
   ],
   "source": [
    "df['City'].value_counts()"
   ]
  },
  {
   "cell_type": "code",
   "execution_count": 111,
   "id": "96818a0f",
   "metadata": {},
   "outputs": [],
   "source": [
    "# Data preprocessing for clustering\n",
    "X = df[['Annual_Revenue', 'Spending_Score']]"
   ]
  },
  {
   "cell_type": "code",
   "execution_count": 112,
   "id": "7f76e79e",
   "metadata": {},
   "outputs": [],
   "source": [
    "# Determine optimal number of clusters using the elbow method\n",
    "inertia = []\n",
    "k_range = range(1, 20)\n",
    "for k in k_range:\n",
    "    kmeans = KMeans(n_clusters=k, random_state=0)\n",
    "    kmeans.fit(X)\n",
    "    inertia.append(kmeans.inertia_)\n"
   ]
  },
  {
   "cell_type": "code",
   "execution_count": 113,
   "id": "495fed41",
   "metadata": {},
   "outputs": [
    {
     "data": {
      "image/png": "[encoded data removed]",
      "text/plain": [
       "<Figure size 500x300 with 1 Axes>"
      ]
     },
     "metadata": {},
     "output_type": "display_data"
    }
   ],
   "source": [
    "# Plotting the elbow method\n",
    "plt.figure(figsize=(5, 3))\n",
    "plt.plot(k_range, inertia, marker='o', linestyle='--')\n",
    "plt.xlabel('Number of Clusters')\n",
    "plt.ylabel('Inertia (WCSS)')\n",
    "plt.title('Elbow Method for Optimal k')\n",
    "plt.xticks(k_range)\n",
    "plt.grid(True)\n",
    "plt.show()\n"
   ]
  },
  {
   "cell_type": "code",
   "execution_count": 114,
   "id": "08ba743e",
   "metadata": {},
   "outputs": [],
   "source": [
    "#Applying K-Means clustering with optimal k\n",
    "kmeans = KMeans(n_clusters=5, init='k-means++', random_state=42)\n",
    "df['Cluster_Number'] = kmeans.fit_predict(X)\n"
   ]
  },
  {
   "cell_type": "code",
   "execution_count": 115,
   "id": "927afd96",
   "metadata": {},
   "outputs": [
    {
     "name": "stdout",
     "output_type": "stream",
     "text": [
      "[4 2 4 2 4 2 4 2 4 2 4 2 4 2 4 2 4 2 4 2 4 2 4 2 4 2 4 2 4 2 4 2 4 2 4 2 4\n",
      " 2 4 2 4 2 4 0 4 2 0 0 0 0 0 0 0 0 0 0 0 0 0 0 0 0 0 0 0 0 0 0 0 0 0 0 0 0\n",
      " 0 0 0 0 0 0 0 0 0 0 0 0 0 0 0 0 0 0 0 0 0 0 0 0 0 0 0 0 0 0 0 0 0 0 0 0 0\n",
      " 0 0 0 0 0 0 0 0 0 0 0 0 1 3 1 0 1 3 1 3 1 0 1 3 1 3 1 3 1 3 1 0 1 3 1 3 1\n",
      " 3 1 3 1 3 1 3 1 3 1 3 1 3 1 3 1 3 1 3 1 3 1 3 1 3 1 3 1 3 1 3 1 3 1 3 1 3\n",
      " 1 3 1 3 1 3 1 3 1 3 1 3 1 3 1]\n"
     ]
    }
   ],
   "source": [
    "print(y_kmeans)"
   ]
  },
  {
   "cell_type": "code",
   "execution_count": 116,
   "id": "319dd8f7",
   "metadata": {},
   "outputs": [],
   "source": [
    "# Assigning cluster nature based on Cluster_Number\n",
    "cluster_nature_map = {\n",
    "    0: 'General',\n",
    "    1: 'Miser',\n",
    "    2: 'Careful',\n",
    "    3: 'Spendthrift',\n",
    "    4: 'Target'\n",
    "}\n",
    "df['Cluster_Nature'] = df['Cluster_Number'].map(cluster_nature_map)\n"
   ]
  },
  {
   "cell_type": "code",
   "execution_count": 117,
   "id": "d82f95e9",
   "metadata": {},
   "outputs": [
    {
     "data": {
      "application/vnd.plotly.v1+json": {
       "config": {
        "plotlyServerURL": "https://plot.ly"
       },
       "data": [
        {
         "customdata": [
          [
           "Mtwara",
           "Mtindi 500ml"
          ],
          [
           "Mtwara",
           "Mtindi 500ml"
          ],
          [
           "Mtwara",
           "Mtindi 500ml"
          ],
          [
           "Mtwara",
           "Mtindi 500ml"
          ],
          [
           "Mtwara",
           "Mtindi 500ml"
          ],
          [
           "Mtwara",
           "Mtindi 500ml"
          ],
          [
           "Mtwara",
           "Mtindi 500ml"
          ],
          [
           "Mtwara",
           "Mtindi 500ml"
          ],
          [
           "Mtwara",
           "Mtindi 500ml"
          ],
          [
           "Mtwara",
           "Mtindi 500ml"
          ],
          [
           "Mtwara",
           "Mtindi 500ml"
          ],
          [
           "Mtwara",
           "Mtindi 500ml"
          ],
          [
           "Mtwara",
           "Mtindi 500ml"
          ],
          [
           "Mtwara",
           "Mtindi 500ml"
          ],
          [
           "Mtwara",
           "Mtindi 500ml"
          ],
          [
           "Mtwara",
           "Mtindi 500ml"
          ],
          [
           "Mtwara",
           "Mtindi 500ml"
          ],
          [
           "Mtwara",
           "Mtindi 500ml"
          ],
          [
           "Mtwara",
           "Mtindi 500ml"
          ],
          [
           "Mtwara",
           "Mtindi 500ml"
          ],
          [
           "Mtwara",
           "Mtindi 500ml"
          ],
          [
           "Moshi",
           "Fresh Milk 1ltr"
          ],
          [
           "Moshi",
           "Fresh Milk 1ltr"
          ]
         ],
         "hovertemplate": "Cluster_Nature=Target<br>Annual_Revenue=%{x}<br>Spending_Score=%{y}<br>City=%{customdata[0]}<br>Most_Purchased_Product=%{customdata[1]}<extra></extra>",
         "legendgroup": "Target",
         "marker": {
          "color": "#636efa",
          "symbol": "circle"
         },
         "mode": "markers",
         "name": "Target",
         "orientation": "v",
         "showlegend": true,
         "type": "scatter",
         "x": [
          15,
          16,
          17,
          18,
          19,
          19,
          20,
          20,
          21,
          23,
          24,
          25,
          28,
          28,
          29,
          30,
          33,
          33,
          34,
          37,
          38,
          39,
          39
         ],
         "xaxis": "x",
         "y": [
          39,
          6,
          40,
          6,
          3,
          14,
          15,
          13,
          35,
          29,
          35,
          5,
          14,
          32,
          31,
          4,
          4,
          14,
          17,
          26,
          35,
          36,
          28
         ],
         "yaxis": "y"
        },
        {
         "customdata": [
          [
           "Zanzibar City",
           "Fresh Milk 250ml"
          ],
          [
           "Zanzibar City",
           "Fresh Milk 250ml"
          ],
          [
           "Zanzibar City",
           "Fresh Milk 250ml"
          ],
          [
           "Zanzibar City",
           "Fresh Milk 250ml"
          ],
          [
           "Zanzibar City",
           "Fresh Milk 250ml"
          ],
          [
           "Zanzibar City",
           "Fresh Milk 250ml"
          ],
          [
           "Zanzibar City",
           "Fresh Milk 250ml"
          ],
          [
           "Zanzibar City",
           "Fresh Milk 250ml"
          ],
          [
           "Zanzibar City",
           "Fresh Milk 250ml"
          ],
          [
           "Zanzibar City",
           "Fresh Milk 250ml"
          ],
          [
           "Zanzibar City",
           "Fresh Milk 250ml"
          ],
          [
           "Zanzibar City",
           "Fresh Milk 250ml"
          ],
          [
           "Zanzibar City",
           "Fresh Milk 250ml"
          ],
          [
           "Zanzibar City",
           "Fresh Milk 250ml"
          ],
          [
           "Zanzibar City",
           "Fresh Milk 250ml"
          ],
          [
           "Zanzibar City",
           "Fresh Milk 250ml"
          ],
          [
           "Zanzibar City",
           "Fresh Milk 250ml"
          ],
          [
           "Zanzibar City",
           "Fresh Milk 250ml"
          ],
          [
           "Zanzibar City",
           "Fresh Milk 250ml"
          ],
          [
           "Zanzibar City",
           "Fresh Milk 250ml"
          ],
          [
           "Zanzibar City",
           "Fresh Milk 250ml"
          ],
          [
           "Moshi",
           "Fresh Milk 1ltr"
          ]
         ],
         "hovertemplate": "Cluster_Nature=Careful<br>Annual_Revenue=%{x}<br>Spending_Score=%{y}<br>City=%{customdata[0]}<br>Most_Purchased_Product=%{customdata[1]}<extra></extra>",
         "legendgroup": "Careful",
         "marker": {
          "color": "#EF553B",
          "symbol": "circle"
         },
         "mode": "markers",
         "name": "Careful",
         "orientation": "v",
         "showlegend": true,
         "type": "scatter",
         "x": [
          15,
          16,
          17,
          18,
          19,
          19,
          20,
          20,
          21,
          23,
          24,
          25,
          28,
          28,
          29,
          30,
          33,
          33,
          34,
          37,
          38,
          39
         ],
         "xaxis": "x",
         "y": [
          81,
          77,
          76,
          94,
          72,
          99,
          77,
          79,
          66,
          98,
          73,
          73,
          82,
          61,
          87,
          73,
          92,
          81,
          73,
          75,
          92,
          65
         ],
         "yaxis": "y"
        },
        {
         "customdata": [
          [
           "Moshi",
           "Fresh Milk 1ltr"
          ],
          [
           "Moshi",
           "Fresh Milk 1ltr"
          ],
          [
           "Moshi",
           "Fresh Milk 1ltr"
          ],
          [
           "Moshi",
           "Fresh Milk 1ltr"
          ],
          [
           "Moshi",
           "Fresh Milk 1ltr"
          ],
          [
           "Moshi",
           "Fresh Milk 1ltr"
          ],
          [
           "Moshi",
           "Fresh Milk 1ltr"
          ],
          [
           "Moshi",
           "Fresh Milk 1ltr"
          ],
          [
           "Moshi",
           "Fresh Milk 1ltr"
          ],
          [
           "Moshi",
           "Fresh Milk 1ltr"
          ],
          [
           "Moshi",
           "Fresh Milk 1ltr"
          ],
          [
           "Moshi",
           "Fresh Milk 1ltr"
          ],
          [
           "Moshi",
           "Fresh Milk 1ltr"
          ],
          [
           "Moshi",
           "Fresh Milk 1ltr"
          ],
          [
           "Moshi",
           "Fresh Milk 1ltr"
          ],
          [
           "Moshi",
           "Fresh Milk 1ltr"
          ],
          [
           "Moshi",
           "Fresh Milk 1ltr"
          ],
          [
           "Moshi",
           "Fresh Milk 1ltr"
          ],
          [
           "Moshi",
           "Fresh Milk 1ltr"
          ],
          [
           "Moshi",
           "Fresh Milk 1ltr"
          ],
          [
           "Moshi",
           "Fresh Milk 1ltr"
          ],
          [
           "Moshi",
           "Fresh Milk 1ltr"
          ],
          [
           "Moshi",
           "Fresh Milk 1ltr"
          ],
          [
           "Moshi",
           "Fresh Milk 1ltr"
          ],
          [
           "Moshi",
           "Fresh Milk 1ltr"
          ],
          [
           "Moshi",
           "Fresh Milk 1ltr"
          ],
          [
           "Moshi",
           "Fresh Milk 1ltr"
          ],
          [
           "Moshi",
           "Fresh Milk 1ltr"
          ],
          [
           "Moshi",
           "Fresh Milk 1ltr"
          ],
          [
           "Moshi",
           "Fresh Milk 1ltr"
          ],
          [
           "Moshi",
           "Fresh Milk 1ltr"
          ],
          [
           "Moshi",
           "Fresh Milk 1ltr"
          ],
          [
           "Moshi",
           "Fresh Milk 1ltr"
          ],
          [
           "Moshi",
           "Fresh Milk 1ltr"
          ],
          [
           "Moshi",
           "Fresh Milk 1ltr"
          ],
          [
           "Moshi",
           "Fresh Milk 1ltr"
          ],
          [
           "Moshi",
           "Fresh Milk 1ltr"
          ],
          [
           "Moshi",
           "Fresh Milk 1ltr"
          ],
          [
           "Moshi",
           "Fresh Milk 1ltr"
          ],
          [
           "Moshi",
           "Fresh Milk 1ltr"
          ],
          [
           "Moshi",
           "Fresh Milk 1ltr"
          ],
          [
           "Moshi",
           "Fresh Milk 1ltr"
          ],
          [
           "Moshi",
           "Fresh Milk 1ltr"
          ],
          [
           "Moshi",
           "Fresh Milk 1ltr"
          ],
          [
           "Moshi",
           "Fresh Milk 1ltr"
          ],
          [
           "Moshi",
           "Fresh Milk 1ltr"
          ],
          [
           "Moshi",
           "Fresh Milk 1ltr"
          ],
          [
           "Moshi",
           "Fresh Milk 1ltr"
          ],
          [
           "Moshi",
           "Fresh Milk 1ltr"
          ],
          [
           "Moshi",
           "Fresh Milk 1ltr"
          ],
          [
           "Moshi",
           "Fresh Milk 1ltr"
          ],
          [
           "Moshi",
           "Fresh Milk 1ltr"
          ],
          [
           "Moshi",
           "Fresh Milk 1ltr"
          ],
          [
           "Moshi",
           "Fresh Milk 1ltr"
          ],
          [
           "Moshi",
           "Fresh Milk 1ltr"
          ],
          [
           "Moshi",
           "Fresh Milk 1ltr"
          ],
          [
           "Moshi",
           "Fresh Milk 1ltr"
          ],
          [
           "Moshi",
           "Fresh Milk 1ltr"
          ],
          [
           "Moshi",
           "Fresh Milk 1ltr"
          ],
          [
           "Moshi",
           "Fresh Milk 1ltr"
          ],
          [
           "Moshi",
           "Fresh Milk 1ltr"
          ],
          [
           "Moshi",
           "Fresh Milk 1ltr"
          ],
          [
           "Moshi",
           "Fresh Milk 1ltr"
          ],
          [
           "Moshi",
           "Fresh Milk 1ltr"
          ],
          [
           "Moshi",
           "Fresh Milk 1ltr"
          ],
          [
           "Moshi",
           "Fresh Milk 1ltr"
          ],
          [
           "Moshi",
           "Fresh Milk 1ltr"
          ],
          [
           "Moshi",
           "Fresh Milk 1ltr"
          ],
          [
           "Moshi",
           "Fresh Milk 1ltr"
          ],
          [
           "Moshi",
           "Fresh Milk 1ltr"
          ],
          [
           "Moshi",
           "Fresh Milk 1ltr"
          ],
          [
           "Moshi",
           "Fresh Milk 1ltr"
          ],
          [
           "Moshi",
           "Fresh Milk 1ltr"
          ],
          [
           "Dar es Salaam",
           "Mtindi 250ml"
          ],
          [
           "Dar es Salaam",
           "Mtindi 250ml"
          ],
          [
           "Dar es Salaam",
           "Mtindi 250ml"
          ],
          [
           "Dar es Salaam",
           "Mtindi 250ml"
          ],
          [
           "Dar es Salaam",
           "Mtindi 250ml"
          ],
          [
           "Dar es Salaam",
           "Mtindi 250ml"
          ],
          [
           "Dar es Salaam",
           "Mtindi 250ml"
          ],
          [
           "Dar es Salaam",
           "Mtindi 250ml"
          ]
         ],
         "hovertemplate": "Cluster_Nature=General<br>Annual_Revenue=%{x}<br>Spending_Score=%{y}<br>City=%{customdata[0]}<br>Most_Purchased_Product=%{customdata[1]}<extra></extra>",
         "legendgroup": "General",
         "marker": {
          "color": "#00cc96",
          "symbol": "circle"
         },
         "mode": "markers",
         "name": "General",
         "orientation": "v",
         "showlegend": true,
         "type": "scatter",
         "x": [
          39,
          40,
          40,
          40,
          40,
          42,
          42,
          43,
          43,
          43,
          43,
          44,
          44,
          46,
          46,
          46,
          46,
          47,
          47,
          48,
          48,
          48,
          48,
          48,
          48,
          49,
          49,
          50,
          50,
          54,
          54,
          54,
          54,
          54,
          54,
          54,
          54,
          54,
          54,
          54,
          54,
          57,
          57,
          58,
          58,
          59,
          59,
          60,
          60,
          60,
          60,
          60,
          60,
          61,
          61,
          62,
          62,
          62,
          62,
          62,
          62,
          63,
          63,
          63,
          63,
          63,
          63,
          64,
          64,
          65,
          65,
          65,
          65,
          67,
          67,
          67,
          67,
          69,
          71,
          72,
          76
         ],
         "xaxis": "x",
         "y": [
          61,
          55,
          47,
          42,
          42,
          52,
          60,
          54,
          60,
          45,
          41,
          50,
          46,
          51,
          46,
          56,
          55,
          52,
          59,
          51,
          59,
          50,
          48,
          59,
          47,
          55,
          42,
          49,
          56,
          47,
          54,
          53,
          48,
          52,
          42,
          51,
          55,
          41,
          44,
          57,
          46,
          58,
          55,
          60,
          46,
          55,
          41,
          49,
          40,
          42,
          52,
          47,
          50,
          42,
          49,
          41,
          48,
          59,
          55,
          56,
          42,
          50,
          46,
          43,
          48,
          52,
          54,
          42,
          46,
          48,
          50,
          43,
          59,
          43,
          57,
          56,
          40,
          58,
          35,
          34,
          40
         ],
         "yaxis": "y"
        },
        {
         "customdata": [
          [
           "Dar es Salaam",
           "Mtindi 250ml"
          ],
          [
           "Dar es Salaam",
           "Mtindi 250ml"
          ],
          [
           "Dar es Salaam",
           "Mtindi 250ml"
          ],
          [
           "Dar es Salaam",
           "Mtindi 250ml"
          ],
          [
           "Dar es Salaam",
           "Mtindi 250ml"
          ],
          [
           "Dar es Salaam",
           "Mtindi 250ml"
          ],
          [
           "Dar es Salaam",
           "Mtindi 250ml"
          ],
          [
           "Dar es Salaam",
           "Mtindi 250ml"
          ],
          [
           "Dar es Salaam",
           "Mtindi 250ml"
          ],
          [
           "Dar es Salaam",
           "Mtindi 250ml"
          ],
          [
           "Dar es Salaam",
           "Mtindi 250ml"
          ],
          [
           "Dar es Salaam",
           "Mtindi 250ml"
          ],
          [
           "Dar es Salaam",
           "Mtindi 250ml"
          ],
          [
           "Dar es Salaam",
           "Mtindi 250ml"
          ],
          [
           "Dar es Salaam",
           "Mtindi 250ml"
          ],
          [
           "Dar es Salaam",
           "Mtindi 250ml"
          ],
          [
           "Dar es Salaam",
           "Mtindi 250ml"
          ],
          [
           "Dar es Salaam",
           "Mtindi 250ml"
          ],
          [
           "Dar es Salaam",
           "Mtindi 250ml"
          ],
          [
           "Dar es Salaam",
           "Mtindi 250ml"
          ],
          [
           "Dar es Salaam",
           "Mtindi 250ml"
          ],
          [
           "Dar es Salaam",
           "Mtindi 250ml"
          ],
          [
           "Dar es Salaam",
           "Mtindi 250ml"
          ],
          [
           "Dar es Salaam",
           "Mtindi 250ml"
          ],
          [
           "Dar es Salaam",
           "Mtindi 250ml"
          ],
          [
           "Dar es Salaam",
           "Mtindi 250ml"
          ],
          [
           "Dar es Salaam",
           "Mtindi 250ml"
          ],
          [
           "Dar es Salaam",
           "Mtindi 250ml"
          ],
          [
           "Dar es Salaam",
           "Mtindi 250ml"
          ],
          [
           "Dar es Salaam",
           "Mtindi 250ml"
          ],
          [
           "Dar es Salaam",
           "Mtindi 250ml"
          ],
          [
           "Dar es Salaam",
           "Mtindi 250ml"
          ],
          [
           "Dar es Salaam",
           "Mtindi 250ml"
          ],
          [
           "Dar es Salaam",
           "Mtindi 250ml"
          ],
          [
           "Dar es Salaam",
           "Mtindi 250ml"
          ],
          [
           "Dar es Salaam",
           "Mtindi 250ml"
          ],
          [
           "Dar es Salaam",
           "Mtindi 250ml"
          ],
          [
           "Dar es Salaam",
           "Mtindi 250ml"
          ],
          [
           "Dar es Salaam",
           "Mtindi 250ml"
          ]
         ],
         "hovertemplate": "Cluster_Nature=Miser<br>Annual_Revenue=%{x}<br>Spending_Score=%{y}<br>City=%{customdata[0]}<br>Most_Purchased_Product=%{customdata[1]}<extra></extra>",
         "legendgroup": "Miser",
         "marker": {
          "color": "#ab63fa",
          "symbol": "circle"
         },
         "mode": "markers",
         "name": "Miser",
         "orientation": "v",
         "showlegend": true,
         "type": "scatter",
         "x": [
          69,
          70,
          71,
          71,
          71,
          72,
          73,
          73,
          74,
          75,
          76,
          77,
          77,
          78,
          78,
          78,
          78,
          78,
          78,
          79,
          81,
          85,
          86,
          87,
          87,
          87,
          88,
          88,
          93,
          97,
          98,
          99,
          101,
          103,
          103,
          113,
          120,
          126,
          137
         ],
         "xaxis": "x",
         "y": [
          91,
          77,
          95,
          75,
          75,
          71,
          88,
          73,
          72,
          93,
          87,
          97,
          74,
          90,
          88,
          76,
          89,
          78,
          73,
          83,
          93,
          75,
          95,
          63,
          75,
          92,
          86,
          69,
          90,
          86,
          88,
          97,
          68,
          85,
          69,
          91,
          79,
          74,
          83
         ],
         "yaxis": "y"
        },
        {
         "customdata": [
          [
           "Dar es Salaam",
           "Mtindi 250ml"
          ],
          [
           "Dar es Salaam",
           "Mtindi 250ml"
          ],
          [
           "Dar es Salaam",
           "Mtindi 250ml"
          ],
          [
           "Dar es Salaam",
           "Mtindi 250ml"
          ],
          [
           "Dar es Salaam",
           "Mtindi 250ml"
          ],
          [
           "Dar es Salaam",
           "Mtindi 250ml"
          ],
          [
           "Dar es Salaam",
           "Mtindi 250ml"
          ],
          [
           "Dar es Salaam",
           "Mtindi 250ml"
          ],
          [
           "Dar es Salaam",
           "Mtindi 250ml"
          ],
          [
           "Dar es Salaam",
           "Mtindi 250ml"
          ],
          [
           "Dar es Salaam",
           "Mtindi 250ml"
          ],
          [
           "Dar es Salaam",
           "Mtindi 250ml"
          ],
          [
           "Dar es Salaam",
           "Mtindi 250ml"
          ],
          [
           "Dar es Salaam",
           "Mtindi 250ml"
          ],
          [
           "Dar es Salaam",
           "Mtindi 250ml"
          ],
          [
           "Dar es Salaam",
           "Mtindi 250ml"
          ],
          [
           "Dar es Salaam",
           "Mtindi 250ml"
          ],
          [
           "Dar es Salaam",
           "Mtindi 250ml"
          ],
          [
           "Dar es Salaam",
           "Mtindi 250ml"
          ],
          [
           "Dar es Salaam",
           "Mtindi 250ml"
          ],
          [
           "Dar es Salaam",
           "Mtindi 250ml"
          ],
          [
           "Dar es Salaam",
           "Mtindi 250ml"
          ],
          [
           "Dar es Salaam",
           "Mtindi 250ml"
          ],
          [
           "Dar es Salaam",
           "Mtindi 250ml"
          ],
          [
           "Dar es Salaam",
           "Mtindi 250ml"
          ],
          [
           "Dar es Salaam",
           "Mtindi 250ml"
          ],
          [
           "Dar es Salaam",
           "Mtindi 250ml"
          ],
          [
           "Dar es Salaam",
           "Mtindi 250ml"
          ],
          [
           "Dar es Salaam",
           "Mtindi 250ml"
          ],
          [
           "Dar es Salaam",
           "Mtindi 250ml"
          ],
          [
           "Dar es Salaam",
           "Mtindi 250ml"
          ],
          [
           "Dar es Salaam",
           "Mtindi 250ml"
          ],
          [
           "Dar es Salaam",
           "Mtindi 250ml"
          ],
          [
           "Dar es Salaam",
           "Mtindi 250ml"
          ],
          [
           "Dar es Salaam",
           "Mtindi 250ml"
          ]
         ],
         "hovertemplate": "Cluster_Nature=Spendthrift<br>Annual_Revenue=%{x}<br>Spending_Score=%{y}<br>City=%{customdata[0]}<br>Most_Purchased_Product=%{customdata[1]}<extra></extra>",
         "legendgroup": "Spendthrift",
         "marker": {
          "color": "#FFA15A",
          "symbol": "circle"
         },
         "mode": "markers",
         "name": "Spendthrift",
         "orientation": "v",
         "showlegend": true,
         "type": "scatter",
         "x": [
          70,
          71,
          71,
          73,
          73,
          74,
          75,
          77,
          77,
          78,
          78,
          78,
          78,
          78,
          78,
          79,
          81,
          85,
          86,
          87,
          87,
          87,
          88,
          88,
          93,
          97,
          98,
          99,
          101,
          103,
          103,
          113,
          120,
          126,
          137
         ],
         "xaxis": "x",
         "y": [
          29,
          11,
          9,
          5,
          7,
          10,
          5,
          12,
          36,
          22,
          17,
          20,
          16,
          1,
          1,
          35,
          5,
          26,
          20,
          27,
          13,
          10,
          13,
          15,
          14,
          32,
          15,
          39,
          24,
          17,
          23,
          8,
          16,
          28,
          18
         ],
         "yaxis": "y"
        }
       ],
       "layout": {
        "legend": {
         "title": {
          "text": "Cluster_Nature"
         },
         "tracegroupgap": 0
        },
        "template": {
         "data": {
          "bar": [
           {
            "error_x": {
             "color": "#2a3f5f"
            },
            "error_y": {
             "color": "#2a3f5f"
            },
            "marker": {
             "line": {
              "color": "#E5ECF6",
              "width": 0.5
             },
             "pattern": {
              "fillmode": "overlay",
              "size": 10,
              "solidity": 0.2
             }
            },
            "type": "bar"
           }
          ],
          "barpolar": [
           {
            "marker": {
             "line": {
              "color": "#E5ECF6",
              "width": 0.5
             },
             "pattern": {
              "fillmode": "overlay",
              "size": 10,
              "solidity": 0.2
             }
            },
            "type": "barpolar"
           }
          ],
          "carpet": [
           {
            "aaxis": {
             "endlinecolor": "#2a3f5f",
             "gridcolor": "white",
             "linecolor": "white",
             "minorgridcolor": "white",
             "startlinecolor": "#2a3f5f"
            },
            "baxis": {
             "endlinecolor": "#2a3f5f",
             "gridcolor": "white",
             "linecolor": "white",
             "minorgridcolor": "white",
             "startlinecolor": "#2a3f5f"
            },
            "type": "carpet"
           }
          ],
          "choropleth": [
           {
            "colorbar": {
             "outlinewidth": 0,
             "ticks": ""
            },
            "type": "choropleth"
           }
          ],
          "contour": [
           {
            "colorbar": {
             "outlinewidth": 0,
             "ticks": ""
            },
            "colorscale": [
             [
              0,
              "#0d0887"
             ],
             [
              0.1111111111111111,
              "#46039f"
             ],
             [
              0.2222222222222222,
              "#7201a8"
             ],
             [
              0.3333333333333333,
              "#9c179e"
             ],
             [
              0.4444444444444444,
              "#bd3786"
             ],
             [
              0.5555555555555556,
              "#d8576b"
             ],
             [
              0.6666666666666666,
              "#ed7953"
             ],
             [
              0.7777777777777778,
              "#fb9f3a"
             ],
             [
              0.8888888888888888,
              "#fdca26"
             ],
             [
              1,
              "#f0f921"
             ]
            ],
            "type": "contour"
           }
          ],
          "contourcarpet": [
           {
            "colorbar": {
             "outlinewidth": 0,
             "ticks": ""
            },
            "type": "contourcarpet"
           }
          ],
          "heatmap": [
           {
            "colorbar": {
             "outlinewidth": 0,
             "ticks": ""
            },
            "colorscale": [
             [
              0,
              "#0d0887"
             ],
             [
              0.1111111111111111,
              "#46039f"
             ],
             [
              0.2222222222222222,
              "#7201a8"
             ],
             [
              0.3333333333333333,
              "#9c179e"
             ],
             [
              0.4444444444444444,
              "#bd3786"
             ],
             [
              0.5555555555555556,
              "#d8576b"
             ],
             [
              0.6666666666666666,
              "#ed7953"
             ],
             [
              0.7777777777777778,
              "#fb9f3a"
             ],
             [
              0.8888888888888888,
              "#fdca26"
             ],
             [
              1,
              "#f0f921"
             ]
            ],
            "type": "heatmap"
           }
          ],
          "heatmapgl": [
           {
            "colorbar": {
             "outlinewidth": 0,
             "ticks": ""
            },
            "colorscale": [
             [
              0,
              "#0d0887"
             ],
             [
              0.1111111111111111,
              "#46039f"
             ],
             [
              0.2222222222222222,
              "#7201a8"
             ],
             [
              0.3333333333333333,
              "#9c179e"
             ],
             [
              0.4444444444444444,
              "#bd3786"
             ],
             [
              0.5555555555555556,
              "#d8576b"
             ],
             [
              0.6666666666666666,
              "#ed7953"
             ],
             [
              0.7777777777777778,
              "#fb9f3a"
             ],
             [
              0.8888888888888888,
              "#fdca26"
             ],
             [
              1,
              "#f0f921"
             ]
            ],
            "type": "heatmapgl"
           }
          ],
          "histogram": [
           {
            "marker": {
             "pattern": {
              "fillmode": "overlay",
              "size": 10,
              "solidity": 0.2
             }
            },
            "type": "histogram"
           }
          ],
          "histogram2d": [
           {
            "colorbar": {
             "outlinewidth": 0,
             "ticks": ""
            },
            "colorscale": [
             [
              0,
              "#0d0887"
             ],
             [
              0.1111111111111111,
              "#46039f"
             ],
             [
              0.2222222222222222,
              "#7201a8"
             ],
             [
              0.3333333333333333,
              "#9c179e"
             ],
             [
              0.4444444444444444,
              "#bd3786"
             ],
             [
              0.5555555555555556,
              "#d8576b"
             ],
             [
              0.6666666666666666,
              "#ed7953"
             ],
             [
              0.7777777777777778,
              "#fb9f3a"
             ],
             [
              0.8888888888888888,
              "#fdca26"
             ],
             [
              1,
              "#f0f921"
             ]
            ],
            "type": "histogram2d"
           }
          ],
          "histogram2dcontour": [
           {
            "colorbar": {
             "outlinewidth": 0,
             "ticks": ""
            },
            "colorscale": [
             [
              0,
              "#0d0887"
             ],
             [
              0.1111111111111111,
              "#46039f"
             ],
             [
              0.2222222222222222,
              "#7201a8"
             ],
             [
              0.3333333333333333,
              "#9c179e"
             ],
             [
              0.4444444444444444,
              "#bd3786"
             ],
             [
              0.5555555555555556,
              "#d8576b"
             ],
             [
              0.6666666666666666,
              "#ed7953"
             ],
             [
              0.7777777777777778,
              "#fb9f3a"
             ],
             [
              0.8888888888888888,
              "#fdca26"
             ],
             [
              1,
              "#f0f921"
             ]
            ],
            "type": "histogram2dcontour"
           }
          ],
          "mesh3d": [
           {
            "colorbar": {
             "outlinewidth": 0,
             "ticks": ""
            },
            "type": "mesh3d"
           }
          ],
          "parcoords": [
           {
            "line": {
             "colorbar": {
              "outlinewidth": 0,
              "ticks": ""
             }
            },
            "type": "parcoords"
           }
          ],
          "pie": [
           {
            "automargin": true,
            "type": "pie"
           }
          ],
          "scatter": [
           {
            "fillpattern": {
             "fillmode": "overlay",
             "size": 10,
             "solidity": 0.2
            },
            "type": "scatter"
           }
          ],
          "scatter3d": [
           {
            "line": {
             "colorbar": {
              "outlinewidth": 0,
              "ticks": ""
             }
            },
            "marker": {
             "colorbar": {
              "outlinewidth": 0,
              "ticks": ""
             }
            },
            "type": "scatter3d"
           }
          ],
          "scattercarpet": [
           {
            "marker": {
             "colorbar": {
              "outlinewidth": 0,
              "ticks": ""
             }
            },
            "type": "scattercarpet"
           }
          ],
          "scattergeo": [
           {
            "marker": {
             "colorbar": {
              "outlinewidth": 0,
              "ticks": ""
             }
            },
            "type": "scattergeo"
           }
          ],
          "scattergl": [
           {
            "marker": {
             "colorbar": {
              "outlinewidth": 0,
              "ticks": ""
             }
            },
            "type": "scattergl"
           }
          ],
          "scattermapbox": [
           {
            "marker": {
             "colorbar": {
              "outlinewidth": 0,
              "ticks": ""
             }
            },
            "type": "scattermapbox"
           }
          ],
          "scatterpolar": [
           {
            "marker": {
             "colorbar": {
              "outlinewidth": 0,
              "ticks": ""
             }
            },
            "type": "scatterpolar"
           }
          ],
          "scatterpolargl": [
           {
            "marker": {
             "colorbar": {
              "outlinewidth": 0,
              "ticks": ""
             }
            },
            "type": "scatterpolargl"
           }
          ],
          "scatterternary": [
           {
            "marker": {
             "colorbar": {
              "outlinewidth": 0,
              "ticks": ""
             }
            },
            "type": "scatterternary"
           }
          ],
          "surface": [
           {
            "colorbar": {
             "outlinewidth": 0,
             "ticks": ""
            },
            "colorscale": [
             [
              0,
              "#0d0887"
             ],
             [
              0.1111111111111111,
              "#46039f"
             ],
             [
              0.2222222222222222,
              "#7201a8"
             ],
             [
              0.3333333333333333,
              "#9c179e"
             ],
             [
              0.4444444444444444,
              "#bd3786"
             ],
             [
              0.5555555555555556,
              "#d8576b"
             ],
             [
              0.6666666666666666,
              "#ed7953"
             ],
             [
              0.7777777777777778,
              "#fb9f3a"
             ],
             [
              0.8888888888888888,
              "#fdca26"
             ],
             [
              1,
              "#f0f921"
             ]
            ],
            "type": "surface"
           }
          ],
          "table": [
           {
            "cells": {
             "fill": {
              "color": "#EBF0F8"
             },
             "line": {
              "color": "white"
             }
            },
            "header": {
             "fill": {
              "color": "#C8D4E3"
             },
             "line": {
              "color": "white"
             }
            },
            "type": "table"
           }
          ]
         },
         "layout": {
          "annotationdefaults": {
           "arrowcolor": "#2a3f5f",
           "arrowhead": 0,
           "arrowwidth": 1
          },
          "autotypenumbers": "strict",
          "coloraxis": {
           "colorbar": {
            "outlinewidth": 0,
            "ticks": ""
           }
          },
          "colorscale": {
           "diverging": [
            [
             0,
             "#8e0152"
            ],
            [
             0.1,
             "#c51b7d"
            ],
            [
             0.2,
             "#de77ae"
            ],
            [
             0.3,
             "#f1b6da"
            ],
            [
             0.4,
             "#fde0ef"
            ],
            [
             0.5,
             "#f7f7f7"
            ],
            [
             0.6,
             "#e6f5d0"
            ],
            [
             0.7,
             "#b8e186"
            ],
            [
             0.8,
             "#7fbc41"
            ],
            [
             0.9,
             "#4d9221"
            ],
            [
             1,
             "#276419"
            ]
           ],
           "sequential": [
            [
             0,
             "#0d0887"
            ],
            [
             0.1111111111111111,
             "#46039f"
            ],
            [
             0.2222222222222222,
             "#7201a8"
            ],
            [
             0.3333333333333333,
             "#9c179e"
            ],
            [
             0.4444444444444444,
             "#bd3786"
            ],
            [
             0.5555555555555556,
             "#d8576b"
            ],
            [
             0.6666666666666666,
             "#ed7953"
            ],
            [
             0.7777777777777778,
             "#fb9f3a"
            ],
            [
             0.8888888888888888,
             "#fdca26"
            ],
            [
             1,
             "#f0f921"
            ]
           ],
           "sequentialminus": [
            [
             0,
             "#0d0887"
            ],
            [
             0.1111111111111111,
             "#46039f"
            ],
            [
             0.2222222222222222,
             "#7201a8"
            ],
            [
             0.3333333333333333,
             "#9c179e"
            ],
            [
             0.4444444444444444,
             "#bd3786"
            ],
            [
             0.5555555555555556,
             "#d8576b"
            ],
            [
             0.6666666666666666,
             "#ed7953"
            ],
            [
             0.7777777777777778,
             "#fb9f3a"
            ],
            [
             0.8888888888888888,
             "#fdca26"
            ],
            [
             1,
             "#f0f921"
            ]
           ]
          },
          "colorway": [
           "#636efa",
           "#EF553B",
           "#00cc96",
           "#ab63fa",
           "#FFA15A",
           "#19d3f3",
           "#FF6692",
           "#B6E880",
           "#FF97FF",
           "#FECB52"
          ],
          "font": {
           "color": "#2a3f5f"
          },
          "geo": {
           "bgcolor": "white",
           "lakecolor": "white",
           "landcolor": "#E5ECF6",
           "showlakes": true,
           "showland": true,
           "subunitcolor": "white"
          },
          "hoverlabel": {
           "align": "left"
          },
          "hovermode": "closest",
          "mapbox": {
           "style": "light"
          },
          "paper_bgcolor": "white",
          "plot_bgcolor": "#E5ECF6",
          "polar": {
           "angularaxis": {
            "gridcolor": "white",
            "linecolor": "white",
            "ticks": ""
           },
           "bgcolor": "#E5ECF6",
           "radialaxis": {
            "gridcolor": "white",
            "linecolor": "white",
            "ticks": ""
           }
          },
          "scene": {
           "xaxis": {
            "backgroundcolor": "#E5ECF6",
            "gridcolor": "white",
            "gridwidth": 2,
            "linecolor": "white",
            "showbackground": true,
            "ticks": "",
            "zerolinecolor": "white"
           },
           "yaxis": {
            "backgroundcolor": "#E5ECF6",
            "gridcolor": "white",
            "gridwidth": 2,
            "linecolor": "white",
            "showbackground": true,
            "ticks": "",
            "zerolinecolor": "white"
           },
           "zaxis": {
            "backgroundcolor": "#E5ECF6",
            "gridcolor": "white",
            "gridwidth": 2,
            "linecolor": "white",
            "showbackground": true,
            "ticks": "",
            "zerolinecolor": "white"
           }
          },
          "shapedefaults": {
           "line": {
            "color": "#2a3f5f"
           }
          },
          "ternary": {
           "aaxis": {
            "gridcolor": "white",
            "linecolor": "white",
            "ticks": ""
           },
           "baxis": {
            "gridcolor": "white",
            "linecolor": "white",
            "ticks": ""
           },
           "bgcolor": "#E5ECF6",
           "caxis": {
            "gridcolor": "white",
            "linecolor": "white",
            "ticks": ""
           }
          },
          "title": {
           "x": 0.05
          },
          "xaxis": {
           "automargin": true,
           "gridcolor": "white",
           "linecolor": "white",
           "ticks": "",
           "title": {
            "standoff": 15
           },
           "zerolinecolor": "white",
           "zerolinewidth": 2
          },
          "yaxis": {
           "automargin": true,
           "gridcolor": "white",
           "linecolor": "white",
           "ticks": "",
           "title": {
            "standoff": 15
           },
           "zerolinecolor": "white",
           "zerolinewidth": 2
          }
         }
        },
        "title": {
         "text": "Clusters of Merchants"
        },
        "xaxis": {
         "anchor": "y",
         "domain": [
          0,
          1
         ],
         "title": {
          "text": "Annual Revenue (k$)"
         }
        },
        "yaxis": {
         "anchor": "x",
         "domain": [
          0,
          1
         ],
         "title": {
          "text": "Spending Score (1-100)"
         }
        }
       }
      },
      "text/html": [
       "<div>                            <div id=\"9a693a93-060c-4535-b2f2-e3413f2b2b94\" class=\"plotly-graph-div\" style=\"height:525px; width:100%;\"></div>            <script type=\"text/javascript\">                require([\"plotly\"], function(Plotly) {                    window.PLOTLYENV=window.PLOTLYENV || {};                                    if (document.getElementById(\"9a693a93-060c-4535-b2f2-e3413f2b2b94\")) {                    Plotly.newPlot(                        \"9a693a93-060c-4535-b2f2-e3413f2b2b94\",                        [{\"customdata\":[[\"Mtwara\",\"Mtindi 500ml\"],[\"Mtwara\",\"Mtindi 500ml\"],[\"Mtwara\",\"Mtindi 500ml\"],[\"Mtwara\",\"Mtindi 500ml\"],[\"Mtwara\",\"Mtindi 500ml\"],[\"Mtwara\",\"Mtindi 500ml\"],[\"Mtwara\",\"Mtindi 500ml\"],[\"Mtwara\",\"Mtindi 500ml\"],[\"Mtwara\",\"Mtindi 500ml\"],[\"Mtwara\",\"Mtindi 500ml\"],[\"Mtwara\",\"Mtindi 500ml\"],[\"Mtwara\",\"Mtindi 500ml\"],[\"Mtwara\",\"Mtindi 500ml\"],[\"Mtwara\",\"Mtindi 500ml\"],[\"Mtwara\",\"Mtindi 500ml\"],[\"Mtwara\",\"Mtindi 500ml\"],[\"Mtwara\",\"Mtindi 500ml\"],[\"Mtwara\",\"Mtindi 500ml\"],[\"Mtwara\",\"Mtindi 500ml\"],[\"Mtwara\",\"Mtindi 500ml\"],[\"Mtwara\",\"Mtindi 500ml\"],[\"Moshi\",\"Fresh Milk 1ltr\"],[\"Moshi\",\"Fresh Milk 1ltr\"]],\"hovertemplate\":\"Cluster_Nature=Target\\u003cbr\\u003eAnnual_Revenue=%{x}\\u003cbr\\u003eSpending_Score=%{y}\\u003cbr\\u003eCity=%{customdata[0]}\\u003cbr\\u003eMost_Purchased_Product=%{customdata[1]}\\u003cextra\\u003e\\u003c\\u002fextra\\u003e\",\"legendgroup\":\"Target\",\"marker\":{\"color\":\"#636efa\",\"symbol\":\"circle\"},\"mode\":\"markers\",\"name\":\"Target\",\"orientation\":\"v\",\"showlegend\":true,\"x\":[15,16,17,18,19,19,20,20,21,23,24,25,28,28,29,30,33,33,34,37,38,39,39],\"xaxis\":\"x\",\"y\":[39,6,40,6,3,14,15,13,35,29,35,5,14,32,31,4,4,14,17,26,35,36,28],\"yaxis\":\"y\",\"type\":\"scatter\"},{\"customdata\":[[\"Zanzibar City\",\"Fresh Milk 250ml\"],[\"Zanzibar City\",\"Fresh Milk 250ml\"],[\"Zanzibar City\",\"Fresh Milk 250ml\"],[\"Zanzibar City\",\"Fresh Milk 250ml\"],[\"Zanzibar City\",\"Fresh Milk 250ml\"],[\"Zanzibar City\",\"Fresh Milk 250ml\"],[\"Zanzibar City\",\"Fresh Milk 250ml\"],[\"Zanzibar City\",\"Fresh Milk 250ml\"],[\"Zanzibar City\",\"Fresh Milk 250ml\"],[\"Zanzibar City\",\"Fresh Milk 250ml\"],[\"Zanzibar City\",\"Fresh Milk 250ml\"],[\"Zanzibar City\",\"Fresh Milk 250ml\"],[\"Zanzibar City\",\"Fresh Milk 250ml\"],[\"Zanzibar City\",\"Fresh Milk 250ml\"],[\"Zanzibar City\",\"Fresh Milk 250ml\"],[\"Zanzibar City\",\"Fresh Milk 250ml\"],[\"Zanzibar City\",\"Fresh Milk 250ml\"],[\"Zanzibar City\",\"Fresh Milk 250ml\"],[\"Zanzibar City\",\"Fresh Milk 250ml\"],[\"Zanzibar City\",\"Fresh Milk 250ml\"],[\"Zanzibar City\",\"Fresh Milk 250ml\"],[\"Moshi\",\"Fresh Milk 1ltr\"]],\"hovertemplate\":\"Cluster_Nature=Careful\\u003cbr\\u003eAnnual_Revenue=%{x}\\u003cbr\\u003eSpending_Score=%{y}\\u003cbr\\u003eCity=%{customdata[0]}\\u003cbr\\u003eMost_Purchased_Product=%{customdata[1]}\\u003cextra\\u003e\\u003c\\u002fextra\\u003e\",\"legendgroup\":\"Careful\",\"marker\":{\"color\":\"#EF553B\",\"symbol\":\"circle\"},\"mode\":\"markers\",\"name\":\"Careful\",\"orientation\":\"v\",\"showlegend\":true,\"x\":[15,16,17,18,19,19,20,20,21,23,24,25,28,28,29,30,33,33,34,37,38,39],\"xaxis\":\"x\",\"y\":[81,77,76,94,72,99,77,79,66,98,73,73,82,61,87,73,92,81,73,75,92,65],\"yaxis\":\"y\",\"type\":\"scatter\"},{\"customdata\":[[\"Moshi\",\"Fresh Milk 1ltr\"],[\"Moshi\",\"Fresh Milk 1ltr\"],[\"Moshi\",\"Fresh Milk 1ltr\"],[\"Moshi\",\"Fresh Milk 1ltr\"],[\"Moshi\",\"Fresh Milk 1ltr\"],[\"Moshi\",\"Fresh Milk 1ltr\"],[\"Moshi\",\"Fresh Milk 1ltr\"],[\"Moshi\",\"Fresh Milk 1ltr\"],[\"Moshi\",\"Fresh Milk 1ltr\"],[\"Moshi\",\"Fresh Milk 1ltr\"],[\"Moshi\",\"Fresh Milk 1ltr\"],[\"Moshi\",\"Fresh Milk 1ltr\"],[\"Moshi\",\"Fresh Milk 1ltr\"],[\"Moshi\",\"Fresh Milk 1ltr\"],[\"Moshi\",\"Fresh Milk 1ltr\"],[\"Moshi\",\"Fresh Milk 1ltr\"],[\"Moshi\",\"Fresh Milk 1ltr\"],[\"Moshi\",\"Fresh Milk 1ltr\"],[\"Moshi\",\"Fresh Milk 1ltr\"],[\"Moshi\",\"Fresh Milk 1ltr\"],[\"Moshi\",\"Fresh Milk 1ltr\"],[\"Moshi\",\"Fresh Milk 1ltr\"],[\"Moshi\",\"Fresh Milk 1ltr\"],[\"Moshi\",\"Fresh Milk 1ltr\"],[\"Moshi\",\"Fresh Milk 1ltr\"],[\"Moshi\",\"Fresh Milk 1ltr\"],[\"Moshi\",\"Fresh Milk 1ltr\"],[\"Moshi\",\"Fresh Milk 1ltr\"],[\"Moshi\",\"Fresh Milk 1ltr\"],[\"Moshi\",\"Fresh Milk 1ltr\"],[\"Moshi\",\"Fresh Milk 1ltr\"],[\"Moshi\",\"Fresh Milk 1ltr\"],[\"Moshi\",\"Fresh Milk 1ltr\"],[\"Moshi\",\"Fresh Milk 1ltr\"],[\"Moshi\",\"Fresh Milk 1ltr\"],[\"Moshi\",\"Fresh Milk 1ltr\"],[\"Moshi\",\"Fresh Milk 1ltr\"],[\"Moshi\",\"Fresh Milk 1ltr\"],[\"Moshi\",\"Fresh Milk 1ltr\"],[\"Moshi\",\"Fresh Milk 1ltr\"],[\"Moshi\",\"Fresh Milk 1ltr\"],[\"Moshi\",\"Fresh Milk 1ltr\"],[\"Moshi\",\"Fresh Milk 1ltr\"],[\"Moshi\",\"Fresh Milk 1ltr\"],[\"Moshi\",\"Fresh Milk 1ltr\"],[\"Moshi\",\"Fresh Milk 1ltr\"],[\"Moshi\",\"Fresh Milk 1ltr\"],[\"Moshi\",\"Fresh Milk 1ltr\"],[\"Moshi\",\"Fresh Milk 1ltr\"],[\"Moshi\",\"Fresh Milk 1ltr\"],[\"Moshi\",\"Fresh Milk 1ltr\"],[\"Moshi\",\"Fresh Milk 1ltr\"],[\"Moshi\",\"Fresh Milk 1ltr\"],[\"Moshi\",\"Fresh Milk 1ltr\"],[\"Moshi\",\"Fresh Milk 1ltr\"],[\"Moshi\",\"Fresh Milk 1ltr\"],[\"Moshi\",\"Fresh Milk 1ltr\"],[\"Moshi\",\"Fresh Milk 1ltr\"],[\"Moshi\",\"Fresh Milk 1ltr\"],[\"Moshi\",\"Fresh Milk 1ltr\"],[\"Moshi\",\"Fresh Milk 1ltr\"],[\"Moshi\",\"Fresh Milk 1ltr\"],[\"Moshi\",\"Fresh Milk 1ltr\"],[\"Moshi\",\"Fresh Milk 1ltr\"],[\"Moshi\",\"Fresh Milk 1ltr\"],[\"Moshi\",\"Fresh Milk 1ltr\"],[\"Moshi\",\"Fresh Milk 1ltr\"],[\"Moshi\",\"Fresh Milk 1ltr\"],[\"Moshi\",\"Fresh Milk 1ltr\"],[\"Moshi\",\"Fresh Milk 1ltr\"],[\"Moshi\",\"Fresh Milk 1ltr\"],[\"Moshi\",\"Fresh Milk 1ltr\"],[\"Moshi\",\"Fresh Milk 1ltr\"],[\"Dar es Salaam\",\"Mtindi 250ml\"],[\"Dar es Salaam\",\"Mtindi 250ml\"],[\"Dar es Salaam\",\"Mtindi 250ml\"],[\"Dar es Salaam\",\"Mtindi 250ml\"],[\"Dar es Salaam\",\"Mtindi 250ml\"],[\"Dar es Salaam\",\"Mtindi 250ml\"],[\"Dar es Salaam\",\"Mtindi 250ml\"],[\"Dar es Salaam\",\"Mtindi 250ml\"]],\"hovertemplate\":\"Cluster_Nature=General\\u003cbr\\u003eAnnual_Revenue=%{x}\\u003cbr\\u003eSpending_Score=%{y}\\u003cbr\\u003eCity=%{customdata[0]}\\u003cbr\\u003eMost_Purchased_Product=%{customdata[1]}\\u003cextra\\u003e\\u003c\\u002fextra\\u003e\",\"legendgroup\":\"General\",\"marker\":{\"color\":\"#00cc96\",\"symbol\":\"circle\"},\"mode\":\"markers\",\"name\":\"General\",\"orientation\":\"v\",\"showlegend\":true,\"x\":[39,40,40,40,40,42,42,43,43,43,43,44,44,46,46,46,46,47,47,48,48,48,48,48,48,49,49,50,50,54,54,54,54,54,54,54,54,54,54,54,54,57,57,58,58,59,59,60,60,60,60,60,60,61,61,62,62,62,62,62,62,63,63,63,63,63,63,64,64,65,65,65,65,67,67,67,67,69,71,72,76],\"xaxis\":\"x\",\"y\":[61,55,47,42,42,52,60,54,60,45,41,50,46,51,46,56,55,52,59,51,59,50,48,59,47,55,42,49,56,47,54,53,48,52,42,51,55,41,44,57,46,58,55,60,46,55,41,49,40,42,52,47,50,42,49,41,48,59,55,56,42,50,46,43,48,52,54,42,46,48,50,43,59,43,57,56,40,58,35,34,40],\"yaxis\":\"y\",\"type\":\"scatter\"},{\"customdata\":[[\"Dar es Salaam\",\"Mtindi 250ml\"],[\"Dar es Salaam\",\"Mtindi 250ml\"],[\"Dar es Salaam\",\"Mtindi 250ml\"],[\"Dar es Salaam\",\"Mtindi 250ml\"],[\"Dar es Salaam\",\"Mtindi 250ml\"],[\"Dar es Salaam\",\"Mtindi 250ml\"],[\"Dar es Salaam\",\"Mtindi 250ml\"],[\"Dar es Salaam\",\"Mtindi 250ml\"],[\"Dar es Salaam\",\"Mtindi 250ml\"],[\"Dar es Salaam\",\"Mtindi 250ml\"],[\"Dar es Salaam\",\"Mtindi 250ml\"],[\"Dar es Salaam\",\"Mtindi 250ml\"],[\"Dar es Salaam\",\"Mtindi 250ml\"],[\"Dar es Salaam\",\"Mtindi 250ml\"],[\"Dar es Salaam\",\"Mtindi 250ml\"],[\"Dar es Salaam\",\"Mtindi 250ml\"],[\"Dar es Salaam\",\"Mtindi 250ml\"],[\"Dar es Salaam\",\"Mtindi 250ml\"],[\"Dar es Salaam\",\"Mtindi 250ml\"],[\"Dar es Salaam\",\"Mtindi 250ml\"],[\"Dar es Salaam\",\"Mtindi 250ml\"],[\"Dar es Salaam\",\"Mtindi 250ml\"],[\"Dar es Salaam\",\"Mtindi 250ml\"],[\"Dar es Salaam\",\"Mtindi 250ml\"],[\"Dar es Salaam\",\"Mtindi 250ml\"],[\"Dar es Salaam\",\"Mtindi 250ml\"],[\"Dar es Salaam\",\"Mtindi 250ml\"],[\"Dar es Salaam\",\"Mtindi 250ml\"],[\"Dar es Salaam\",\"Mtindi 250ml\"],[\"Dar es Salaam\",\"Mtindi 250ml\"],[\"Dar es Salaam\",\"Mtindi 250ml\"],[\"Dar es Salaam\",\"Mtindi 250ml\"],[\"Dar es Salaam\",\"Mtindi 250ml\"],[\"Dar es Salaam\",\"Mtindi 250ml\"],[\"Dar es Salaam\",\"Mtindi 250ml\"],[\"Dar es Salaam\",\"Mtindi 250ml\"],[\"Dar es Salaam\",\"Mtindi 250ml\"],[\"Dar es Salaam\",\"Mtindi 250ml\"],[\"Dar es Salaam\",\"Mtindi 250ml\"]],\"hovertemplate\":\"Cluster_Nature=Miser\\u003cbr\\u003eAnnual_Revenue=%{x}\\u003cbr\\u003eSpending_Score=%{y}\\u003cbr\\u003eCity=%{customdata[0]}\\u003cbr\\u003eMost_Purchased_Product=%{customdata[1]}\\u003cextra\\u003e\\u003c\\u002fextra\\u003e\",\"legendgroup\":\"Miser\",\"marker\":{\"color\":\"#ab63fa\",\"symbol\":\"circle\"},\"mode\":\"markers\",\"name\":\"Miser\",\"orientation\":\"v\",\"showlegend\":true,\"x\":[69,70,71,71,71,72,73,73,74,75,76,77,77,78,78,78,78,78,78,79,81,85,86,87,87,87,88,88,93,97,98,99,101,103,103,113,120,126,137],\"xaxis\":\"x\",\"y\":[91,77,95,75,75,71,88,73,72,93,87,97,74,90,88,76,89,78,73,83,93,75,95,63,75,92,86,69,90,86,88,97,68,85,69,91,79,74,83],\"yaxis\":\"y\",\"type\":\"scatter\"},{\"customdata\":[[\"Dar es Salaam\",\"Mtindi 250ml\"],[\"Dar es Salaam\",\"Mtindi 250ml\"],[\"Dar es Salaam\",\"Mtindi 250ml\"],[\"Dar es Salaam\",\"Mtindi 250ml\"],[\"Dar es Salaam\",\"Mtindi 250ml\"],[\"Dar es Salaam\",\"Mtindi 250ml\"],[\"Dar es Salaam\",\"Mtindi 250ml\"],[\"Dar es Salaam\",\"Mtindi 250ml\"],[\"Dar es Salaam\",\"Mtindi 250ml\"],[\"Dar es Salaam\",\"Mtindi 250ml\"],[\"Dar es Salaam\",\"Mtindi 250ml\"],[\"Dar es Salaam\",\"Mtindi 250ml\"],[\"Dar es Salaam\",\"Mtindi 250ml\"],[\"Dar es Salaam\",\"Mtindi 250ml\"],[\"Dar es Salaam\",\"Mtindi 250ml\"],[\"Dar es Salaam\",\"Mtindi 250ml\"],[\"Dar es Salaam\",\"Mtindi 250ml\"],[\"Dar es Salaam\",\"Mtindi 250ml\"],[\"Dar es Salaam\",\"Mtindi 250ml\"],[\"Dar es Salaam\",\"Mtindi 250ml\"],[\"Dar es Salaam\",\"Mtindi 250ml\"],[\"Dar es Salaam\",\"Mtindi 250ml\"],[\"Dar es Salaam\",\"Mtindi 250ml\"],[\"Dar es Salaam\",\"Mtindi 250ml\"],[\"Dar es Salaam\",\"Mtindi 250ml\"],[\"Dar es Salaam\",\"Mtindi 250ml\"],[\"Dar es Salaam\",\"Mtindi 250ml\"],[\"Dar es Salaam\",\"Mtindi 250ml\"],[\"Dar es Salaam\",\"Mtindi 250ml\"],[\"Dar es Salaam\",\"Mtindi 250ml\"],[\"Dar es Salaam\",\"Mtindi 250ml\"],[\"Dar es Salaam\",\"Mtindi 250ml\"],[\"Dar es Salaam\",\"Mtindi 250ml\"],[\"Dar es Salaam\",\"Mtindi 250ml\"],[\"Dar es Salaam\",\"Mtindi 250ml\"]],\"hovertemplate\":\"Cluster_Nature=Spendthrift\\u003cbr\\u003eAnnual_Revenue=%{x}\\u003cbr\\u003eSpending_Score=%{y}\\u003cbr\\u003eCity=%{customdata[0]}\\u003cbr\\u003eMost_Purchased_Product=%{customdata[1]}\\u003cextra\\u003e\\u003c\\u002fextra\\u003e\",\"legendgroup\":\"Spendthrift\",\"marker\":{\"color\":\"#FFA15A\",\"symbol\":\"circle\"},\"mode\":\"markers\",\"name\":\"Spendthrift\",\"orientation\":\"v\",\"showlegend\":true,\"x\":[70,71,71,73,73,74,75,77,77,78,78,78,78,78,78,79,81,85,86,87,87,87,88,88,93,97,98,99,101,103,103,113,120,126,137],\"xaxis\":\"x\",\"y\":[29,11,9,5,7,10,5,12,36,22,17,20,16,1,1,35,5,26,20,27,13,10,13,15,14,32,15,39,24,17,23,8,16,28,18],\"yaxis\":\"y\",\"type\":\"scatter\"}],                        {\"template\":{\"data\":{\"histogram2dcontour\":[{\"type\":\"histogram2dcontour\",\"colorbar\":{\"outlinewidth\":0,\"ticks\":\"\"},\"colorscale\":[[0.0,\"#0d0887\"],[0.1111111111111111,\"#46039f\"],[0.2222222222222222,\"#7201a8\"],[0.3333333333333333,\"#9c179e\"],[0.4444444444444444,\"#bd3786\"],[0.5555555555555556,\"#d8576b\"],[0.6666666666666666,\"#ed7953\"],[0.7777777777777778,\"#fb9f3a\"],[0.8888888888888888,\"#fdca26\"],[1.0,\"#f0f921\"]]}],\"choropleth\":[{\"type\":\"choropleth\",\"colorbar\":{\"outlinewidth\":0,\"ticks\":\"\"}}],\"histogram2d\":[{\"type\":\"histogram2d\",\"colorbar\":{\"outlinewidth\":0,\"ticks\":\"\"},\"colorscale\":[[0.0,\"#0d0887\"],[0.1111111111111111,\"#46039f\"],[0.2222222222222222,\"#7201a8\"],[0.3333333333333333,\"#9c179e\"],[0.4444444444444444,\"#bd3786\"],[0.5555555555555556,\"#d8576b\"],[0.6666666666666666,\"#ed7953\"],[0.7777777777777778,\"#fb9f3a\"],[0.8888888888888888,\"#fdca26\"],[1.0,\"#f0f921\"]]}],\"heatmap\":[{\"type\":\"heatmap\",\"colorbar\":{\"outlinewidth\":0,\"ticks\":\"\"},\"colorscale\":[[0.0,\"#0d0887\"],[0.1111111111111111,\"#46039f\"],[0.2222222222222222,\"#7201a8\"],[0.3333333333333333,\"#9c179e\"],[0.4444444444444444,\"#bd3786\"],[0.5555555555555556,\"#d8576b\"],[0.6666666666666666,\"#ed7953\"],[0.7777777777777778,\"#fb9f3a\"],[0.8888888888888888,\"#fdca26\"],[1.0,\"#f0f921\"]]}],\"heatmapgl\":[{\"type\":\"heatmapgl\",\"colorbar\":{\"outlinewidth\":0,\"ticks\":\"\"},\"colorscale\":[[0.0,\"#0d0887\"],[0.1111111111111111,\"#46039f\"],[0.2222222222222222,\"#7201a8\"],[0.3333333333333333,\"#9c179e\"],[0.4444444444444444,\"#bd3786\"],[0.5555555555555556,\"#d8576b\"],[0.6666666666666666,\"#ed7953\"],[0.7777777777777778,\"#fb9f3a\"],[0.8888888888888888,\"#fdca26\"],[1.0,\"#f0f921\"]]}],\"contourcarpet\":[{\"type\":\"contourcarpet\",\"colorbar\":{\"outlinewidth\":0,\"ticks\":\"\"}}],\"contour\":[{\"type\":\"contour\",\"colorbar\":{\"outlinewidth\":0,\"ticks\":\"\"},\"colorscale\":[[0.0,\"#0d0887\"],[0.1111111111111111,\"#46039f\"],[0.2222222222222222,\"#7201a8\"],[0.3333333333333333,\"#9c179e\"],[0.4444444444444444,\"#bd3786\"],[0.5555555555555556,\"#d8576b\"],[0.6666666666666666,\"#ed7953\"],[0.7777777777777778,\"#fb9f3a\"],[0.8888888888888888,\"#fdca26\"],[1.0,\"#f0f921\"]]}],\"surface\":[{\"type\":\"surface\",\"colorbar\":{\"outlinewidth\":0,\"ticks\":\"\"},\"colorscale\":[[0.0,\"#0d0887\"],[0.1111111111111111,\"#46039f\"],[0.2222222222222222,\"#7201a8\"],[0.3333333333333333,\"#9c179e\"],[0.4444444444444444,\"#bd3786\"],[0.5555555555555556,\"#d8576b\"],[0.6666666666666666,\"#ed7953\"],[0.7777777777777778,\"#fb9f3a\"],[0.8888888888888888,\"#fdca26\"],[1.0,\"#f0f921\"]]}],\"mesh3d\":[{\"type\":\"mesh3d\",\"colorbar\":{\"outlinewidth\":0,\"ticks\":\"\"}}],\"scatter\":[{\"fillpattern\":{\"fillmode\":\"overlay\",\"size\":10,\"solidity\":0.2},\"type\":\"scatter\"}],\"parcoords\":[{\"type\":\"parcoords\",\"line\":{\"colorbar\":{\"outlinewidth\":0,\"ticks\":\"\"}}}],\"scatterpolargl\":[{\"type\":\"scatterpolargl\",\"marker\":{\"colorbar\":{\"outlinewidth\":0,\"ticks\":\"\"}}}],\"bar\":[{\"error_x\":{\"color\":\"#2a3f5f\"},\"error_y\":{\"color\":\"#2a3f5f\"},\"marker\":{\"line\":{\"color\":\"#E5ECF6\",\"width\":0.5},\"pattern\":{\"fillmode\":\"overlay\",\"size\":10,\"solidity\":0.2}},\"type\":\"bar\"}],\"scattergeo\":[{\"type\":\"scattergeo\",\"marker\":{\"colorbar\":{\"outlinewidth\":0,\"ticks\":\"\"}}}],\"scatterpolar\":[{\"type\":\"scatterpolar\",\"marker\":{\"colorbar\":{\"outlinewidth\":0,\"ticks\":\"\"}}}],\"histogram\":[{\"marker\":{\"pattern\":{\"fillmode\":\"overlay\",\"size\":10,\"solidity\":0.2}},\"type\":\"histogram\"}],\"scattergl\":[{\"type\":\"scattergl\",\"marker\":{\"colorbar\":{\"outlinewidth\":0,\"ticks\":\"\"}}}],\"scatter3d\":[{\"type\":\"scatter3d\",\"line\":{\"colorbar\":{\"outlinewidth\":0,\"ticks\":\"\"}},\"marker\":{\"colorbar\":{\"outlinewidth\":0,\"ticks\":\"\"}}}],\"scattermapbox\":[{\"type\":\"scattermapbox\",\"marker\":{\"colorbar\":{\"outlinewidth\":0,\"ticks\":\"\"}}}],\"scatterternary\":[{\"type\":\"scatterternary\",\"marker\":{\"colorbar\":{\"outlinewidth\":0,\"ticks\":\"\"}}}],\"scattercarpet\":[{\"type\":\"scattercarpet\",\"marker\":{\"colorbar\":{\"outlinewidth\":0,\"ticks\":\"\"}}}],\"carpet\":[{\"aaxis\":{\"endlinecolor\":\"#2a3f5f\",\"gridcolor\":\"white\",\"linecolor\":\"white\",\"minorgridcolor\":\"white\",\"startlinecolor\":\"#2a3f5f\"},\"baxis\":{\"endlinecolor\":\"#2a3f5f\",\"gridcolor\":\"white\",\"linecolor\":\"white\",\"minorgridcolor\":\"white\",\"startlinecolor\":\"#2a3f5f\"},\"type\":\"carpet\"}],\"table\":[{\"cells\":{\"fill\":{\"color\":\"#EBF0F8\"},\"line\":{\"color\":\"white\"}},\"header\":{\"fill\":{\"color\":\"#C8D4E3\"},\"line\":{\"color\":\"white\"}},\"type\":\"table\"}],\"barpolar\":[{\"marker\":{\"line\":{\"color\":\"#E5ECF6\",\"width\":0.5},\"pattern\":{\"fillmode\":\"overlay\",\"size\":10,\"solidity\":0.2}},\"type\":\"barpolar\"}],\"pie\":[{\"automargin\":true,\"type\":\"pie\"}]},\"layout\":{\"autotypenumbers\":\"strict\",\"colorway\":[\"#636efa\",\"#EF553B\",\"#00cc96\",\"#ab63fa\",\"#FFA15A\",\"#19d3f3\",\"#FF6692\",\"#B6E880\",\"#FF97FF\",\"#FECB52\"],\"font\":{\"color\":\"#2a3f5f\"},\"hovermode\":\"closest\",\"hoverlabel\":{\"align\":\"left\"},\"paper_bgcolor\":\"white\",\"plot_bgcolor\":\"#E5ECF6\",\"polar\":{\"bgcolor\":\"#E5ECF6\",\"angularaxis\":{\"gridcolor\":\"white\",\"linecolor\":\"white\",\"ticks\":\"\"},\"radialaxis\":{\"gridcolor\":\"white\",\"linecolor\":\"white\",\"ticks\":\"\"}},\"ternary\":{\"bgcolor\":\"#E5ECF6\",\"aaxis\":{\"gridcolor\":\"white\",\"linecolor\":\"white\",\"ticks\":\"\"},\"baxis\":{\"gridcolor\":\"white\",\"linecolor\":\"white\",\"ticks\":\"\"},\"caxis\":{\"gridcolor\":\"white\",\"linecolor\":\"white\",\"ticks\":\"\"}},\"coloraxis\":{\"colorbar\":{\"outlinewidth\":0,\"ticks\":\"\"}},\"colorscale\":{\"sequential\":[[0.0,\"#0d0887\"],[0.1111111111111111,\"#46039f\"],[0.2222222222222222,\"#7201a8\"],[0.3333333333333333,\"#9c179e\"],[0.4444444444444444,\"#bd3786\"],[0.5555555555555556,\"#d8576b\"],[0.6666666666666666,\"#ed7953\"],[0.7777777777777778,\"#fb9f3a\"],[0.8888888888888888,\"#fdca26\"],[1.0,\"#f0f921\"]],\"sequentialminus\":[[0.0,\"#0d0887\"],[0.1111111111111111,\"#46039f\"],[0.2222222222222222,\"#7201a8\"],[0.3333333333333333,\"#9c179e\"],[0.4444444444444444,\"#bd3786\"],[0.5555555555555556,\"#d8576b\"],[0.6666666666666666,\"#ed7953\"],[0.7777777777777778,\"#fb9f3a\"],[0.8888888888888888,\"#fdca26\"],[1.0,\"#f0f921\"]],\"diverging\":[[0,\"#8e0152\"],[0.1,\"#c51b7d\"],[0.2,\"#de77ae\"],[0.3,\"#f1b6da\"],[0.4,\"#fde0ef\"],[0.5,\"#f7f7f7\"],[0.6,\"#e6f5d0\"],[0.7,\"#b8e186\"],[0.8,\"#7fbc41\"],[0.9,\"#4d9221\"],[1,\"#276419\"]]},\"xaxis\":{\"gridcolor\":\"white\",\"linecolor\":\"white\",\"ticks\":\"\",\"title\":{\"standoff\":15},\"zerolinecolor\":\"white\",\"automargin\":true,\"zerolinewidth\":2},\"yaxis\":{\"gridcolor\":\"white\",\"linecolor\":\"white\",\"ticks\":\"\",\"title\":{\"standoff\":15},\"zerolinecolor\":\"white\",\"automargin\":true,\"zerolinewidth\":2},\"scene\":{\"xaxis\":{\"backgroundcolor\":\"#E5ECF6\",\"gridcolor\":\"white\",\"linecolor\":\"white\",\"showbackground\":true,\"ticks\":\"\",\"zerolinecolor\":\"white\",\"gridwidth\":2},\"yaxis\":{\"backgroundcolor\":\"#E5ECF6\",\"gridcolor\":\"white\",\"linecolor\":\"white\",\"showbackground\":true,\"ticks\":\"\",\"zerolinecolor\":\"white\",\"gridwidth\":2},\"zaxis\":{\"backgroundcolor\":\"#E5ECF6\",\"gridcolor\":\"white\",\"linecolor\":\"white\",\"showbackground\":true,\"ticks\":\"\",\"zerolinecolor\":\"white\",\"gridwidth\":2}},\"shapedefaults\":{\"line\":{\"color\":\"#2a3f5f\"}},\"annotationdefaults\":{\"arrowcolor\":\"#2a3f5f\",\"arrowhead\":0,\"arrowwidth\":1},\"geo\":{\"bgcolor\":\"white\",\"landcolor\":\"#E5ECF6\",\"subunitcolor\":\"white\",\"showland\":true,\"showlakes\":true,\"lakecolor\":\"white\"},\"title\":{\"x\":0.05},\"mapbox\":{\"style\":\"light\"}}},\"xaxis\":{\"anchor\":\"y\",\"domain\":[0.0,1.0],\"title\":{\"text\":\"Annual Revenue (k$)\"}},\"yaxis\":{\"anchor\":\"x\",\"domain\":[0.0,1.0],\"title\":{\"text\":\"Spending Score (1-100)\"}},\"legend\":{\"title\":{\"text\":\"Cluster_Nature\"},\"tracegroupgap\":0},\"title\":{\"text\":\"Clusters of Merchants\"}},                        {\"responsive\": true}                    ).then(function(){\n",
       "                            \n",
       "var gd = document.getElementById('9a693a93-060c-4535-b2f2-e3413f2b2b94');\n",
       "var x = new MutationObserver(function (mutations, observer) {{\n",
       "        var display = window.getComputedStyle(gd).display;\n",
       "        if (!display || display === 'none') {{\n",
       "            console.log([gd, 'removed!']);\n",
       "            Plotly.purge(gd);\n",
       "            observer.disconnect();\n",
       "        }}\n",
       "}});\n",
       "\n",
       "// Listen for the removal of the full notebook cells\n",
       "var notebookContainer = gd.closest('#notebook-container');\n",
       "if (notebookContainer) {{\n",
       "    x.observe(notebookContainer, {childList: true});\n",
       "}}\n",
       "\n",
       "// Listen for the clearing of the current output cell\n",
       "var outputEl = gd.closest('.output');\n",
       "if (outputEl) {{\n",
       "    x.observe(outputEl, {childList: true});\n",
       "}}\n",
       "\n",
       "                        })                };                });            </script>        </div>"
      ]
     },
     "metadata": {},
     "output_type": "display_data"
    }
   ],
   "source": [
    "# Visualizing clusters using Plotly Express\n",
    "fig = px.scatter(df, x='Annual_Revenue', y='Spending_Score', color='Cluster_Nature',\n",
    "                 hover_data=['City', 'Most_Purchased_Product'], title='Clusters of Merchants')\n",
    "fig.update_layout(xaxis_title='Annual Revenue (k$)', yaxis_title='Spending Score (1-100)')\n",
    "fig.show()"
   ]
  },
  {
   "cell_type": "code",
   "execution_count": 118,
   "id": "5df4d873",
   "metadata": {},
   "outputs": [],
   "source": [
    "df.loc[:,\"Cluster_Number\"] = y_kmeans"
   ]
  },
  {
   "cell_type": "code",
   "execution_count": 119,
   "id": "69b64ecf",
   "metadata": {},
   "outputs": [],
   "source": [
    "Cluster_Nature = []\n",
    "\n",
    "for row in df['Cluster_Number']:\n",
    "    if row == 0:\n",
    "        Cluster_Nature.append('General')\n",
    "    elif row == 1:\n",
    "        Cluster_Nature.append('Miser') # Miser is the one who hoards wealth and spends a little money\n",
    "    elif row == 2: Cluster_Nature.append('Careful')\n",
    "    elif row == 3: Cluster_Nature.append('Spendthrift') # spendthrift is the one who spends money in an extravagant\n",
    "    elif row == 4:  Cluster_Nature.append('Target')\n",
    "    else: Cluster_Nature.append('Outlier')\n",
    "\n",
    "df['Cluster_Nature'] = Cluster_Nature\n"
   ]
  },
  {
   "cell_type": "code",
   "execution_count": 120,
   "id": "17e87dfd",
   "metadata": {},
   "outputs": [
    {
     "name": "stdout",
     "output_type": "stream",
     "text": [
      "<class 'pandas.core.frame.DataFrame'>\n",
      "RangeIndex: 200 entries, 0 to 199\n",
      "Data columns (total 8 columns):\n",
      " #   Column                  Non-Null Count  Dtype \n",
      "---  ------                  --------------  ----- \n",
      " 0   Merchant Id             200 non-null    int64 \n",
      " 1   Annual_Revenue          200 non-null    int64 \n",
      " 2   Spending_Score          200 non-null    int64 \n",
      " 3   City                    200 non-null    object\n",
      " 4   Most_Purchased_Product  200 non-null    object\n",
      " 5   Repayment Score 1-5     200 non-null    int64 \n",
      " 6   Cluster_Number          200 non-null    int32 \n",
      " 7   Cluster_Nature          200 non-null    object\n",
      "dtypes: int32(1), int64(4), object(3)\n",
      "memory usage: 11.8+ KB\n"
     ]
    }
   ],
   "source": [
    "df.info()"
   ]
  },
  {
   "cell_type": "code",
   "execution_count": 122,
   "id": "b86dbe66",
   "metadata": {},
   "outputs": [
    {
     "data": {
      "text/html": [
       "<div>\n",
       "<style scoped>\n",
       "    .dataframe tbody tr th:only-of-type {\n",
       "        vertical-align: middle;\n",
       "    }\n",
       "\n",
       "    .dataframe tbody tr th {\n",
       "        vertical-align: top;\n",
       "    }\n",
       "\n",
       "    .dataframe thead th {\n",
       "        text-align: right;\n",
       "    }\n",
       "</style>\n",
       "<table border=\"1\" class=\"dataframe\">\n",
       "  <thead>\n",
       "    <tr style=\"text-align: right;\">\n",
       "      <th></th>\n",
       "      <th>Merchant Id</th>\n",
       "      <th>Annual_Revenue</th>\n",
       "      <th>Spending_Score</th>\n",
       "      <th>City</th>\n",
       "      <th>Most_Purchased_Product</th>\n",
       "      <th>Repayment Score 1-5</th>\n",
       "      <th>Cluster_Number</th>\n",
       "      <th>Cluster_Nature</th>\n",
       "    </tr>\n",
       "  </thead>\n",
       "  <tbody>\n",
       "    <tr>\n",
       "      <th>0</th>\n",
       "      <td>1</td>\n",
       "      <td>15</td>\n",
       "      <td>39</td>\n",
       "      <td>Mtwara</td>\n",
       "      <td>Mtindi 500ml</td>\n",
       "      <td>1</td>\n",
       "      <td>4</td>\n",
       "      <td>Target</td>\n",
       "    </tr>\n",
       "    <tr>\n",
       "      <th>1</th>\n",
       "      <td>2</td>\n",
       "      <td>15</td>\n",
       "      <td>81</td>\n",
       "      <td>Zanzibar City</td>\n",
       "      <td>Fresh Milk 250ml</td>\n",
       "      <td>2</td>\n",
       "      <td>2</td>\n",
       "      <td>Careful</td>\n",
       "    </tr>\n",
       "    <tr>\n",
       "      <th>2</th>\n",
       "      <td>3</td>\n",
       "      <td>16</td>\n",
       "      <td>6</td>\n",
       "      <td>Mtwara</td>\n",
       "      <td>Mtindi 500ml</td>\n",
       "      <td>3</td>\n",
       "      <td>4</td>\n",
       "      <td>Target</td>\n",
       "    </tr>\n",
       "    <tr>\n",
       "      <th>3</th>\n",
       "      <td>4</td>\n",
       "      <td>16</td>\n",
       "      <td>77</td>\n",
       "      <td>Zanzibar City</td>\n",
       "      <td>Fresh Milk 250ml</td>\n",
       "      <td>4</td>\n",
       "      <td>2</td>\n",
       "      <td>Careful</td>\n",
       "    </tr>\n",
       "    <tr>\n",
       "      <th>4</th>\n",
       "      <td>5</td>\n",
       "      <td>17</td>\n",
       "      <td>40</td>\n",
       "      <td>Mtwara</td>\n",
       "      <td>Mtindi 500ml</td>\n",
       "      <td>2</td>\n",
       "      <td>4</td>\n",
       "      <td>Target</td>\n",
       "    </tr>\n",
       "  </tbody>\n",
       "</table>\n",
       "</div>"
      ],
      "text/plain": [
       "   Merchant Id  Annual_Revenue  Spending_Score           City  \\\n",
       "0            1              15              39         Mtwara   \n",
       "1            2              15              81  Zanzibar City   \n",
       "2            3              16               6         Mtwara   \n",
       "3            4              16              77  Zanzibar City   \n",
       "4            5              17              40         Mtwara   \n",
       "\n",
       "  Most_Purchased_Product  Repayment Score 1-5  Cluster_Number Cluster_Nature  \n",
       "0           Mtindi 500ml                    1               4         Target  \n",
       "1       Fresh Milk 250ml                    2               2        Careful  \n",
       "2           Mtindi 500ml                    3               4         Target  \n",
       "3       Fresh Milk 250ml                    4               2        Careful  \n",
       "4           Mtindi 500ml                    2               4         Target  "
      ]
     },
     "execution_count": 122,
     "metadata": {},
     "output_type": "execute_result"
    }
   ],
   "source": [
    "df.head()"
   ]
  },
  {
   "cell_type": "code",
   "execution_count": 123,
   "id": "c4402693",
   "metadata": {},
   "outputs": [
    {
     "data": {
      "text/plain": [
       "Cluster_Nature\n",
       "General        81\n",
       "Miser          39\n",
       "Spendthrift    35\n",
       "Target         23\n",
       "Careful        22\n",
       "Name: count, dtype: int64"
      ]
     },
     "execution_count": 123,
     "metadata": {},
     "output_type": "execute_result"
    }
   ],
   "source": [
    "df['Cluster_Nature'].value_counts()"
   ]
  },
  {
   "cell_type": "code",
   "execution_count": 124,
   "id": "71ef31d4",
   "metadata": {},
   "outputs": [
    {
     "name": "stdout",
     "output_type": "stream",
     "text": [
      "['Target' 'Careful' 'General' 'Miser' 'Spendthrift']\n"
     ]
    }
   ],
   "source": [
    "uniqueValues = df['Cluster_Nature'].unique()\n",
    "print(uniqueValues)"
   ]
  },
  {
   "cell_type": "code",
   "execution_count": 125,
   "id": "64841078",
   "metadata": {},
   "outputs": [],
   "source": [
    "target_df = df.loc[df['Cluster_Nature'] == 'Target']"
   ]
  },
  {
   "cell_type": "code",
   "execution_count": 126,
   "id": "7484f4f3",
   "metadata": {},
   "outputs": [
    {
     "data": {
      "text/html": [
       "<div>\n",
       "<style scoped>\n",
       "    .dataframe tbody tr th:only-of-type {\n",
       "        vertical-align: middle;\n",
       "    }\n",
       "\n",
       "    .dataframe tbody tr th {\n",
       "        vertical-align: top;\n",
       "    }\n",
       "\n",
       "    .dataframe thead th {\n",
       "        text-align: right;\n",
       "    }\n",
       "</style>\n",
       "<table border=\"1\" class=\"dataframe\">\n",
       "  <thead>\n",
       "    <tr style=\"text-align: right;\">\n",
       "      <th></th>\n",
       "      <th>Merchant Id</th>\n",
       "      <th>Annual_Revenue</th>\n",
       "      <th>Spending_Score</th>\n",
       "      <th>City</th>\n",
       "      <th>Most_Purchased_Product</th>\n",
       "      <th>Repayment Score 1-5</th>\n",
       "      <th>Cluster_Number</th>\n",
       "      <th>Cluster_Nature</th>\n",
       "    </tr>\n",
       "  </thead>\n",
       "  <tbody>\n",
       "    <tr>\n",
       "      <th>0</th>\n",
       "      <td>1</td>\n",
       "      <td>15</td>\n",
       "      <td>39</td>\n",
       "      <td>Mtwara</td>\n",
       "      <td>Mtindi 500ml</td>\n",
       "      <td>1</td>\n",
       "      <td>4</td>\n",
       "      <td>Target</td>\n",
       "    </tr>\n",
       "    <tr>\n",
       "      <th>2</th>\n",
       "      <td>3</td>\n",
       "      <td>16</td>\n",
       "      <td>6</td>\n",
       "      <td>Mtwara</td>\n",
       "      <td>Mtindi 500ml</td>\n",
       "      <td>3</td>\n",
       "      <td>4</td>\n",
       "      <td>Target</td>\n",
       "    </tr>\n",
       "    <tr>\n",
       "      <th>4</th>\n",
       "      <td>5</td>\n",
       "      <td>17</td>\n",
       "      <td>40</td>\n",
       "      <td>Mtwara</td>\n",
       "      <td>Mtindi 500ml</td>\n",
       "      <td>2</td>\n",
       "      <td>4</td>\n",
       "      <td>Target</td>\n",
       "    </tr>\n",
       "    <tr>\n",
       "      <th>6</th>\n",
       "      <td>7</td>\n",
       "      <td>18</td>\n",
       "      <td>6</td>\n",
       "      <td>Mtwara</td>\n",
       "      <td>Mtindi 500ml</td>\n",
       "      <td>2</td>\n",
       "      <td>4</td>\n",
       "      <td>Target</td>\n",
       "    </tr>\n",
       "    <tr>\n",
       "      <th>8</th>\n",
       "      <td>9</td>\n",
       "      <td>19</td>\n",
       "      <td>3</td>\n",
       "      <td>Mtwara</td>\n",
       "      <td>Mtindi 500ml</td>\n",
       "      <td>1</td>\n",
       "      <td>4</td>\n",
       "      <td>Target</td>\n",
       "    </tr>\n",
       "  </tbody>\n",
       "</table>\n",
       "</div>"
      ],
      "text/plain": [
       "   Merchant Id  Annual_Revenue  Spending_Score    City Most_Purchased_Product  \\\n",
       "0            1              15              39  Mtwara           Mtindi 500ml   \n",
       "2            3              16               6  Mtwara           Mtindi 500ml   \n",
       "4            5              17              40  Mtwara           Mtindi 500ml   \n",
       "6            7              18               6  Mtwara           Mtindi 500ml   \n",
       "8            9              19               3  Mtwara           Mtindi 500ml   \n",
       "\n",
       "   Repayment Score 1-5  Cluster_Number Cluster_Nature  \n",
       "0                    1               4         Target  \n",
       "2                    3               4         Target  \n",
       "4                    2               4         Target  \n",
       "6                    2               4         Target  \n",
       "8                    1               4         Target  "
      ]
     },
     "execution_count": 126,
     "metadata": {},
     "output_type": "execute_result"
    }
   ],
   "source": [
    "target_df.head()"
   ]
  },
  {
   "cell_type": "code",
   "execution_count": 127,
   "id": "fb7a9149",
   "metadata": {},
   "outputs": [],
   "source": [
    "# Compute percentages\n",
    "city_cluster_percent = city_cluster_cross.apply(lambda x: x / x.sum() * 100, axis=1)\n"
   ]
  },
  {
   "cell_type": "code",
   "execution_count": 128,
   "id": "417fc871",
   "metadata": {},
   "outputs": [
    {
     "data": {
      "image/png": "[encoded data removed]",
      "text/plain": [
       "<Figure size 1000x600 with 1 Axes>"
      ]
     },
     "metadata": {},
     "output_type": "display_data"
    }
   ],
   "source": [
    "# Plotting cross tabulation as a grouped bar chart\n",
    "city_cluster_cross.plot(kind='bar', stacked=True, figsize=(10, 6))\n",
    "plt.title('City vs Cluster Nature')\n",
    "plt.xlabel('City')\n",
    "plt.ylabel('Count')\n",
    "plt.legend(title='Cluster Nature', bbox_to_anchor=(1.05, 1), loc='upper left')\n",
    "plt.show()"
   ]
  },
  {
   "cell_type": "code",
   "execution_count": 129,
   "id": "4826db02",
   "metadata": {},
   "outputs": [],
   "source": [
    "# Cross tabulation between Most Purchased Product and Cluster Nature\n",
    "product_cluster_cross = pd.crosstab(df['Most_Purchased_Product'], df['Cluster_Nature'])\n"
   ]
  },
  {
   "cell_type": "code",
   "execution_count": 130,
   "id": "a67c9418",
   "metadata": {},
   "outputs": [
    {
     "data": {
      "image/png": "[encoded data removed]",
      "text/plain": [
       "<Figure size 1200x600 with 1 Axes>"
      ]
     },
     "metadata": {},
     "output_type": "display_data"
    }
   ],
   "source": [
    "# Plotting cross tabulation as a grouped bar chart\n",
    "product_cluster_cross.plot(kind='bar', stacked=True, figsize=(12, 6))\n",
    "plt.title('Most Purchased Product vs Cluster Nature')\n",
    "plt.xlabel('Most Purchased Product')\n",
    "plt.ylabel('Count')\n",
    "plt.legend(title='Cluster Nature', bbox_to_anchor=(1.05, 1), loc='upper left')\n",
    "plt.show()\n"
   ]
  },
  {
   "cell_type": "code",
   "execution_count": 131,
   "id": "0fc37bcc",
   "metadata": {},
   "outputs": [],
   "source": [
    "# Pivot table on City vs Cluster Nature aggregated by Annual Revenue\n",
    "city_pivot = pd.pivot_table(df, index=['City','Cluster_Nature'],aggfunc={'Annual_Revenue':np.mean})\n"
   ]
  },
  {
   "cell_type": "code",
   "execution_count": 132,
   "id": "29ec048f",
   "metadata": {},
   "outputs": [
    {
     "data": {
      "image/png": "[encoded data removed]",
      "text/plain": [
       "<Figure size 1200x600 with 1 Axes>"
      ]
     },
     "metadata": {},
     "output_type": "display_data"
    }
   ],
   "source": [
    "# Plotting pivot table as a bar chart\n",
    "city_pivot.unstack().plot(kind='bar', stacked=True, figsize=(12, 6))\n",
    "plt.title('City vs Cluster Nature by Annual Revenue')\n",
    "plt.xlabel('City')\n",
    "plt.ylabel('Average Annual Revenue')\n",
    "plt.legend(title='Cluster Nature', bbox_to_anchor=(1.05, 1), loc='upper left')\n",
    "plt.show()"
   ]
  },
  {
   "cell_type": "code",
   "execution_count": 135,
   "id": "a96f808a",
   "metadata": {},
   "outputs": [
    {
     "name": "stdout",
     "output_type": "stream",
     "text": [
      "Final analyzed data saved to final_analyzed_data.csv\n"
     ]
    }
   ],
   "source": [
    "# Saving the final analyzed data with clusters and nature to CSV\n",
    "df.to_csv('final_analyzed_data.csv', index=False)\n",
    "print('Final analyzed data saved to final_analyzed_data.csv')"
   ]
  },
  {
   "cell_type": "code",
   "execution_count": null,
   "id": "225fe7c1",
   "metadata": {},
   "outputs": [],
   "source": []
  }
 ],
 "metadata": {
  "kernelspec": {
   "display_name": "Python 3 (ipykernel)",
   "language": "python",
   "name": "python3"
  },
  "language_info": {
   "codemirror_mode": {
    "name": "ipython",
    "version": 3
   },
   "file_extension": ".py",
   "mimetype": "text/x-python",
   "name": "python",
   "nbconvert_exporter": "python",
   "pygments_lexer": "ipython3",
   "version": "3.11.5"
  }
 },
 "nbformat": 4,
 "nbformat_minor": 5
}
